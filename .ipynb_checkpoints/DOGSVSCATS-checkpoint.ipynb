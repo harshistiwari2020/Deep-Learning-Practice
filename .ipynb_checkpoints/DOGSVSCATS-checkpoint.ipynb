{
  "nbformat": 4,
  "nbformat_minor": 0,
  "metadata": {
    "colab": {
      "name": "Untitled15.ipynb",
      "provenance": [],
      "private_outputs": true
    },
    "kernelspec": {
      "name": "python3",
      "display_name": "Python 3"
    }
  },
  "cells": [
    {
      "cell_type": "code",
      "metadata": {
        "id": "tKtbRkGGPIat",
        "colab_type": "code",
        "colab": {}
      },
      "source": [
        "from google.colab import files"
      ],
      "execution_count": 0,
      "outputs": []
    },
    {
      "cell_type": "code",
      "metadata": {
        "id": "ZMBOxjtmPeN3",
        "colab_type": "code",
        "colab": {}
      },
      "source": [
        "files.upload()"
      ],
      "execution_count": 0,
      "outputs": []
    },
    {
      "cell_type": "code",
      "metadata": {
        "id": "MCHVbM9-PfWl",
        "colab_type": "code",
        "colab": {}
      },
      "source": [
        "!pip install -q kaggle\n",
        "!mkdir -p ~/.kaggle\n",
        "!cp kaggle.json ~/.kaggle/\n",
        "!ls ~/.kaggle\n",
        "!chmod 600 /root/.kaggle/kaggle.json"
      ],
      "execution_count": 0,
      "outputs": []
    },
    {
      "cell_type": "code",
      "metadata": {
        "id": "4ll8FxrvPlPj",
        "colab_type": "code",
        "colab": {}
      },
      "source": [
        "!kaggle datasets download -d biaiscience/dogs-vs-cats"
      ],
      "execution_count": 0,
      "outputs": []
    },
    {
      "cell_type": "code",
      "metadata": {
        "id": "-bUmntGLQQGM",
        "colab_type": "code",
        "colab": {}
      },
      "source": [
        "!unzip dogs-vs-cats.zip"
      ],
      "execution_count": 0,
      "outputs": []
    },
    {
      "cell_type": "code",
      "metadata": {
        "id": "N62qiQlMQWBS",
        "colab_type": "code",
        "colab": {}
      },
      "source": [
        "!ls "
      ],
      "execution_count": 0,
      "outputs": []
    },
    {
      "cell_type": "code",
      "metadata": {
        "id": "iwtDLYV0STfJ",
        "colab_type": "code",
        "colab": {}
      },
      "source": [
        "import pathlib\n",
        "import tensorflow as tf\n",
        "import numpy as np\n",
        "import matplotlib.pyplot as plt"
      ],
      "execution_count": 0,
      "outputs": []
    },
    {
      "cell_type": "code",
      "metadata": {
        "id": "pzFAf3gZQiE9",
        "colab_type": "code",
        "colab": {}
      },
      "source": [
        "TRAIN_DIR = pathlib.Path('train/train')\n",
        "TEST_DIR  = pathlib.Path('test/test')"
      ],
      "execution_count": 0,
      "outputs": []
    },
    {
      "cell_type": "code",
      "metadata": {
        "id": "LysyGbEOSYad",
        "colab_type": "code",
        "colab": {}
      },
      "source": [
        "train_list_ds = tf.data.Dataset.list_files(str(TRAIN_DIR/'*.*.jpg'))\n",
        "# test_list_ds = tf.data.Dataset.list_files(str(TEST_DIR/'*.*.jpg'))"
      ],
      "execution_count": 0,
      "outputs": []
    },
    {
      "cell_type": "code",
      "metadata": {
        "id": "8QuU3CbzSmZF",
        "colab_type": "code",
        "colab": {}
      },
      "source": [
        "for f in train_list_ds.take(5):\n",
        "  print(f.numpy())"
      ],
      "execution_count": 0,
      "outputs": []
    },
    {
      "cell_type": "code",
      "metadata": {
        "id": "HSCakB8OTctX",
        "colab_type": "code",
        "colab": {}
      },
      "source": [
        "CLASS_NAMES = ['dog', 'cat']\n",
        "IMAGE_HEIGHT = 160\n",
        "IMAGE_WIDTH  = 160\n",
        "IMAGE_SHAPE = (IMAGE_HEIGHT, IMAGE_WIDTH, 3)\n",
        "BATCH_SIZE = 32"
      ],
      "execution_count": 0,
      "outputs": []
    },
    {
      "cell_type": "code",
      "metadata": {
        "id": "H5uFmSsmSuch",
        "colab_type": "code",
        "colab": {}
      },
      "source": [
        "def get_label(file_path):\n",
        "  print(file_path)\n",
        "  parts = tf.strings.split(file_path, '/')\n",
        "  parts = tf.strings.split(parts[-1], '.')\n",
        "  if parts[-3] == CLASS_NAMES[0]:\n",
        "    return 0\n",
        "  return 1\n",
        "  print(parts[-3])"
      ],
      "execution_count": 0,
      "outputs": []
    },
    {
      "cell_type": "code",
      "metadata": {
        "id": "NwCrRQ4iT2Wv",
        "colab_type": "code",
        "colab": {}
      },
      "source": [
        "def decode_img(img):\n",
        "  img = tf.image.decode_jpeg(img, channels=3)\n",
        "  img = tf.image.convert_image_dtype(img, tf.float32)\n",
        "  # img = (img/127.5) - 1\n",
        "  return tf.image.resize(img, [IMAGE_HEIGHT, IMAGE_WIDTH])"
      ],
      "execution_count": 0,
      "outputs": []
    },
    {
      "cell_type": "code",
      "metadata": {
        "id": "oT-59ETsV0zD",
        "colab_type": "code",
        "colab": {}
      },
      "source": [
        "def process_path(file_path):\n",
        "  label = get_label(file_path=file_path)\n",
        "  img   = tf.io.read_file(file_path)\n",
        "  img   = decode_img(img)\n",
        "  return img, label"
      ],
      "execution_count": 0,
      "outputs": []
    },
    {
      "cell_type": "code",
      "metadata": {
        "id": "JYQ6VharWN6K",
        "colab_type": "code",
        "colab": {}
      },
      "source": [
        "AUTOTUNE = tf.data.experimental.AUTOTUNE"
      ],
      "execution_count": 0,
      "outputs": []
    },
    {
      "cell_type": "code",
      "metadata": {
        "id": "yiLgz_jkWFeI",
        "colab_type": "code",
        "colab": {}
      },
      "source": [
        "labeled_ds = train_list_ds.map(process_path, num_parallel_calls=AUTOTUNE)"
      ],
      "execution_count": 0,
      "outputs": []
    },
    {
      "cell_type": "code",
      "metadata": {
        "id": "Hebym9ZNWPg4",
        "colab_type": "code",
        "colab": {}
      },
      "source": [
        "for image, label in labeled_ds.take(1):\n",
        "  plt.imshow(image.numpy())\n",
        "  plt.title(label.numpy())\n",
        "  print(\"Image shape: \", image.numpy().shape)\n",
        "  print(\"Label: \", label.numpy())"
      ],
      "execution_count": 0,
      "outputs": []
    },
    {
      "cell_type": "code",
      "metadata": {
        "id": "XhywrmIhYO3M",
        "colab_type": "code",
        "colab": {}
      },
      "source": [
        "def prepare_for_training(ds, cache=True, shuffle_buffer_size=1000):\n",
        "  if cache:\n",
        "    if isinstance(cache, str):\n",
        "      ds = ds.cache(cache)\n",
        "    else:\n",
        "      ds = ds.cache()\n",
        "\n",
        "  ds = ds.shuffle(buffer_size=shuffle_buffer_size)\n",
        "  # ds = ds.repeat()\n",
        "\n",
        "  ds = ds.batch(BATCH_SIZE)\n",
        "  ds = ds.prefetch(buffer_size=AUTOTUNE)\n",
        "\n",
        "  return ds"
      ],
      "execution_count": 0,
      "outputs": []
    },
    {
      "cell_type": "code",
      "metadata": {
        "id": "OFTTdV5dYyvg",
        "colab_type": "code",
        "colab": {}
      },
      "source": [
        "train_ds = prepare_for_training(labeled_ds)"
      ],
      "execution_count": 0,
      "outputs": []
    },
    {
      "cell_type": "code",
      "metadata": {
        "id": "CHa5WJ7cY3TA",
        "colab_type": "code",
        "colab": {}
      },
      "source": [
        "image_batch, label_batch = next(iter(train_ds))"
      ],
      "execution_count": 0,
      "outputs": []
    },
    {
      "cell_type": "code",
      "metadata": {
        "id": "F9xzFttlZEyX",
        "colab_type": "code",
        "colab": {}
      },
      "source": [
        "plt.imshow(image_batch[1].numpy())\n",
        "plt.title(label_batch[1].numpy())\n",
        "print(\"Image shape: \", image_batch[0].numpy().shape)\n",
        "print(\"Label: \", label_batch[0].numpy())"
      ],
      "execution_count": 0,
      "outputs": []
    },
    {
      "cell_type": "code",
      "metadata": {
        "id": "_DiUMBuCZSHt",
        "colab_type": "code",
        "colab": {}
      },
      "source": [
        "from tensorflow.keras import Sequential, layers, losses, optimizers"
      ],
      "execution_count": 0,
      "outputs": []
    },
    {
      "cell_type": "code",
      "metadata": {
        "id": "Dy0j3k5oeTyh",
        "colab_type": "code",
        "colab": {}
      },
      "source": [
        "base_model = tf.keras.applications.MobileNetV2(input_shape=IMAGE_SHAPE,\n",
        "                                               include_top=False,\n",
        "                                               weights='imagenet')"
      ],
      "execution_count": 0,
      "outputs": []
    },
    {
      "cell_type": "code",
      "metadata": {
        "id": "SrlXGSIXebUZ",
        "colab_type": "code",
        "colab": {}
      },
      "source": [
        "feature_batch = base_model(image_batch)"
      ],
      "execution_count": 0,
      "outputs": []
    },
    {
      "cell_type": "code",
      "metadata": {
        "id": "GLQykdALenb8",
        "colab_type": "code",
        "colab": {}
      },
      "source": [
        "feature_batch.shape"
      ],
      "execution_count": 0,
      "outputs": []
    },
    {
      "cell_type": "code",
      "metadata": {
        "id": "yPPTrcR9esfZ",
        "colab_type": "code",
        "colab": {}
      },
      "source": [
        "base_model.trainable = False"
      ],
      "execution_count": 0,
      "outputs": []
    },
    {
      "cell_type": "code",
      "metadata": {
        "id": "lnHCsZUXewpd",
        "colab_type": "code",
        "colab": {}
      },
      "source": [
        "base_model.summary()"
      ],
      "execution_count": 0,
      "outputs": []
    },
    {
      "cell_type": "code",
      "metadata": {
        "id": "43QjibHBezJR",
        "colab_type": "code",
        "colab": {}
      },
      "source": [
        "global_average_pooling_layer = tf.keras.layers.GlobalAveragePooling2D()\n",
        "feature_batch_average = global_average_pooling_layer(feature_batch)\n",
        "print(feature_batch_average.shape)"
      ],
      "execution_count": 0,
      "outputs": []
    },
    {
      "cell_type": "code",
      "metadata": {
        "id": "X0pkrlxUfFmv",
        "colab_type": "code",
        "colab": {}
      },
      "source": [
        "prediction_layer = layers.Dense(1)\n",
        "prediction_batch = prediction_layer(feature_batch_average)\n",
        "print(prediction_batch.shape)"
      ],
      "execution_count": 0,
      "outputs": []
    },
    {
      "cell_type": "code",
      "metadata": {
        "id": "MhAu5a6OfWeL",
        "colab_type": "code",
        "colab": {}
      },
      "source": [
        "model = Sequential([\n",
        "                    base_model,\n",
        "                    global_average_pooling_layer,\n",
        "                    prediction_layer\n",
        "])"
      ],
      "execution_count": 0,
      "outputs": []
    },
    {
      "cell_type": "code",
      "metadata": {
        "id": "1RR65YF3ZYxX",
        "colab_type": "code",
        "colab": {}
      },
      "source": [
        "model = Sequential([\n",
        "                    layers.Conv2D(32, (3, 3), activation='relu', input_shape=(128, 128, 3)),\n",
        "                    layers.Conv2D(64, (3, 3), activation='relu'),\n",
        "                    layers.MaxPool2D((2,2)),\n",
        "                    layers.Conv2D(128, (3, 3), activation='relu'),\n",
        "                    layers.MaxPool2D((2,2)),\n",
        "                    layers.Flatten(),\n",
        "                    layers.Dense(728, activation='relu'),\n",
        "                    layers.Dense(512, activation='relu'),\n",
        "                    # layers.Dense(128, activation='relu'),\n",
        "                    # layers.Dense(10, activation='relu'),\n",
        "                    layers.Dense(1)\n",
        "])"
      ],
      "execution_count": 0,
      "outputs": []
    },
    {
      "cell_type": "code",
      "metadata": {
        "id": "B6xviOcaZkTL",
        "colab_type": "code",
        "colab": {}
      },
      "source": [
        "model.compile(loss=losses.BinaryCrossentropy(from_logits=True),metrics=['accuracy'], optimizer=optimizers.Adam(0.001))"
      ],
      "execution_count": 0,
      "outputs": []
    },
    {
      "cell_type": "code",
      "metadata": {
        "id": "dwAxoU_qfiu_",
        "colab_type": "code",
        "colab": {}
      },
      "source": [
        "model.summary()"
      ],
      "execution_count": 0,
      "outputs": []
    },
    {
      "cell_type": "code",
      "metadata": {
        "id": "P6vEU5rPZmts",
        "colab_type": "code",
        "colab": {}
      },
      "source": [
        "model.fit(train_ds,epochs=10)"
      ],
      "execution_count": 0,
      "outputs": []
    },
    {
      "cell_type": "code",
      "metadata": {
        "id": "Ip_0qQysZuDF",
        "colab_type": "code",
        "colab": {}
      },
      "source": [
        "model.predict()"
      ],
      "execution_count": 0,
      "outputs": []
    },
    {
      "cell_type": "code",
      "metadata": {
        "id": "jNzdwMioZ8eV",
        "colab_type": "code",
        "colab": {}
      },
      "source": [
        "from PIL import Image\n",
        "import numpy as np"
      ],
      "execution_count": 0,
      "outputs": []
    },
    {
      "cell_type": "code",
      "metadata": {
        "id": "zEFyK4jdqmny",
        "colab_type": "code",
        "colab": {}
      },
      "source": [
        "!ls"
      ],
      "execution_count": 0,
      "outputs": []
    },
    {
      "cell_type": "code",
      "metadata": {
        "id": "kIU_uTNOqjuS",
        "colab_type": "code",
        "colab": {}
      },
      "source": [
        "image = Image.open('cat.jpg')"
      ],
      "execution_count": 0,
      "outputs": []
    },
    {
      "cell_type": "code",
      "metadata": {
        "id": "BE93a64orBx3",
        "colab_type": "code",
        "colab": {}
      },
      "source": [
        "image = image.resize((IMAGE_HEIGHT, IMAGE_WIDTH), resample=Image.NEAREST)"
      ],
      "execution_count": 0,
      "outputs": []
    },
    {
      "cell_type": "code",
      "metadata": {
        "id": "jd_Lth0hqquf",
        "colab_type": "code",
        "colab": {}
      },
      "source": [
        "image = np.array(image)"
      ],
      "execution_count": 0,
      "outputs": []
    },
    {
      "cell_type": "code",
      "metadata": {
        "id": "EjGHHTPOreGO",
        "colab_type": "code",
        "colab": {}
      },
      "source": [
        "image = image[None,:,:,:]"
      ],
      "execution_count": 0,
      "outputs": []
    },
    {
      "cell_type": "code",
      "metadata": {
        "id": "Hqgqv5afrvfO",
        "colab_type": "code",
        "colab": {}
      },
      "source": [
        "image.shape"
      ],
      "execution_count": 0,
      "outputs": []
    },
    {
      "cell_type": "code",
      "metadata": {
        "id": "4x8XjFwQqtk4",
        "colab_type": "code",
        "colab": {}
      },
      "source": [
        "model.predict(image)"
      ],
      "execution_count": 0,
      "outputs": []
    },
    {
      "cell_type": "code",
      "metadata": {
        "id": "LmT1bBryrbl0",
        "colab_type": "code",
        "colab": {}
      },
      "source": [
        "model.save_weights('my_model.h5')"
      ],
      "execution_count": 0,
      "outputs": []
    },
    {
      "cell_type": "code",
      "metadata": {
        "id": "U1hXYBtuscMg",
        "colab_type": "code",
        "colab": {}
      },
      "source": [
        "files.download('my_model.h5')"
      ],
      "execution_count": 0,
      "outputs": []
    },
    {
      "cell_type": "code",
      "metadata": {
        "id": "3mQYSW8Ks1nn",
        "colab_type": "code",
        "colab": {}
      },
      "source": [
        ""
      ],
      "execution_count": 0,
      "outputs": []
    }
  ]
}