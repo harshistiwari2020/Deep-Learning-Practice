{
  "nbformat": 4,
  "nbformat_minor": 0,
  "metadata": {
    "colab": {
      "name": "Untitled14.ipynb",
      "provenance": [],
      "private_outputs": true
    },
    "kernelspec": {
      "name": "python3",
      "display_name": "Python 3"
    }
  },
  "cells": [
    {
      "cell_type": "code",
      "metadata": {
        "id": "OWp3o4BqKxWT",
        "colab_type": "code",
        "colab": {}
      },
      "source": [
        "from google.colab import files"
      ],
      "execution_count": 0,
      "outputs": []
    },
    {
      "cell_type": "code",
      "metadata": {
        "id": "JRSJOARMMR1_",
        "colab_type": "code",
        "colab": {}
      },
      "source": [
        "files.upload()"
      ],
      "execution_count": 0,
      "outputs": []
    },
    {
      "cell_type": "code",
      "metadata": {
        "id": "e3RnSSkFMTYG",
        "colab_type": "code",
        "colab": {}
      },
      "source": [
        "!pip install -q kaggle\n",
        "!mkdir -p ~/.kaggle\n",
        "!cp kaggle.json ~/.kaggle/\n",
        "!ls ~/.kaggle\n",
        "!chmod 600 /root/.kaggle/kaggle.json"
      ],
      "execution_count": 0,
      "outputs": []
    },
    {
      "cell_type": "code",
      "metadata": {
        "id": "9It0-k8zMf_x",
        "colab_type": "code",
        "colab": {}
      },
      "source": [
        "!kaggle datasets download -d oddrationale/mnist-in-csv"
      ],
      "execution_count": 0,
      "outputs": []
    },
    {
      "cell_type": "code",
      "metadata": {
        "id": "PYi4zUfhMyaT",
        "colab_type": "code",
        "colab": {}
      },
      "source": [
        "!unzip mnist-in-csv.zip"
      ],
      "execution_count": 0,
      "outputs": []
    },
    {
      "cell_type": "code",
      "metadata": {
        "id": "EBkrSIFdM8KQ",
        "colab_type": "code",
        "colab": {}
      },
      "source": [
        "!ls"
      ],
      "execution_count": 0,
      "outputs": []
    },
    {
      "cell_type": "code",
      "metadata": {
        "id": "T35Z3HOwNIen",
        "colab_type": "code",
        "colab": {}
      },
      "source": [
        "!head mnist_train.csv"
      ],
      "execution_count": 0,
      "outputs": []
    },
    {
      "cell_type": "code",
      "metadata": {
        "id": "E75HF6DLOV0d",
        "colab_type": "code",
        "colab": {}
      },
      "source": [
        "import pandas as pd\n",
        "import tensorflow as tf"
      ],
      "execution_count": 0,
      "outputs": []
    },
    {
      "cell_type": "code",
      "metadata": {
        "id": "iaOFznu8NK7a",
        "colab_type": "code",
        "colab": {}
      },
      "source": [
        "TRAIN_FILE_PATH = 'mnist_train.csv'\n",
        "TEST_FILE_PATH  = 'mnist_test.csv'"
      ],
      "execution_count": 0,
      "outputs": []
    },
    {
      "cell_type": "code",
      "metadata": {
        "id": "jbkYeT_EPJWj",
        "colab_type": "code",
        "colab": {}
      },
      "source": [
        "LABEL_COLUMN = 'label'"
      ],
      "execution_count": 0,
      "outputs": []
    },
    {
      "cell_type": "code",
      "metadata": {
        "id": "Y6P4jKBmPN7B",
        "colab_type": "code",
        "colab": {}
      },
      "source": [
        "train_df = pd.read_csv(TRAIN_FILE_PATH)\n",
        "test_df  = pd.read_csv(TEST_FILE_PATH)\n",
        "target_train = pd.get_dummies(train_df.pop('label'))\n",
        "target_test  = pd.get_dummies(test_df.pop('label'))"
      ],
      "execution_count": 0,
      "outputs": []
    },
    {
      "cell_type": "code",
      "metadata": {
        "id": "-T4ceG1XzBWW",
        "colab_type": "code",
        "colab": {}
      },
      "source": [
        "train_df"
      ],
      "execution_count": 0,
      "outputs": []
    },
    {
      "cell_type": "code",
      "metadata": {
        "id": "chihjivxzbe9",
        "colab_type": "code",
        "colab": {}
      },
      "source": [
        "train_df"
      ],
      "execution_count": 0,
      "outputs": []
    },
    {
      "cell_type": "code",
      "metadata": {
        "id": "vhqZBFg2yp3P",
        "colab_type": "code",
        "colab": {}
      },
      "source": [
        "train_df = train_df.values.reshape(60000, 28, 28, 1)\n",
        "test_df  = test_df.values.reshape(10000, 28, 28, 1)"
      ],
      "execution_count": 0,
      "outputs": []
    },
    {
      "cell_type": "code",
      "metadata": {
        "id": "w8F1_g0-0SH_",
        "colab_type": "code",
        "colab": {}
      },
      "source": [
        "target_train = target_train.values\n",
        "target_test  = target_test.values"
      ],
      "execution_count": 0,
      "outputs": []
    },
    {
      "cell_type": "code",
      "metadata": {
        "id": "ASS2jjeKxaTu",
        "colab_type": "code",
        "colab": {}
      },
      "source": [
        "target_train"
      ],
      "execution_count": 0,
      "outputs": []
    },
    {
      "cell_type": "code",
      "metadata": {
        "id": "0fqcw_evfhhC",
        "colab_type": "code",
        "colab": {}
      },
      "source": [
        "dataset_train = tf.data.Dataset.from_tensor_slices((train_df, target_train)).shuffle(126).batch(32)\n",
        "dataset_test  = tf.data.Dataset.from_tensor_slices((test_df, target_test)).shuffle(126).batch(32)"
      ],
      "execution_count": 0,
      "outputs": []
    },
    {
      "cell_type": "code",
      "metadata": {
        "id": "JuZeH--Ml6yY",
        "colab_type": "code",
        "colab": {}
      },
      "source": [
        "import matplotlib.pyplot as plt\n",
        "import numpy as np"
      ],
      "execution_count": 0,
      "outputs": []
    },
    {
      "cell_type": "code",
      "metadata": {
        "id": "096gSuyrRcf8",
        "colab_type": "code",
        "colab": {}
      },
      "source": [
        "def visualisze_Dataset(dataset):\n",
        "  fig = plt.figure(figsize=(10, 10))\n",
        "  i = 0\n",
        "  for data_ in dataset.take(1):\n",
        "    features, labels =  data_\n",
        "    for i in range(1, 25+1):\n",
        "      fig.add_subplot(5, 5, i)\n",
        "      plt.imshow(features[i-1].numpy().reshape(28, 28))\n",
        "      plt.title(np.argmax(labels[i-1].numpy()))\n",
        "      i+=1\n",
        "      # print(d[0].numpy())\n",
        "    break"
      ],
      "execution_count": 0,
      "outputs": []
    },
    {
      "cell_type": "code",
      "metadata": {
        "id": "Lv0jNavMmbLX",
        "colab_type": "code",
        "colab": {}
      },
      "source": [
        "visualisze_Dataset(dataset_test)"
      ],
      "execution_count": 0,
      "outputs": []
    },
    {
      "cell_type": "code",
      "metadata": {
        "id": "20vyiwvhTLMg",
        "colab_type": "code",
        "colab": {}
      },
      "source": [
        "from tensorflow.keras import Sequential, layers, losses, optimizers"
      ],
      "execution_count": 0,
      "outputs": []
    },
    {
      "cell_type": "code",
      "metadata": {
        "id": "AUDnKP3YU4oG",
        "colab_type": "code",
        "colab": {}
      },
      "source": [
        "model = Sequential([\n",
        "                    layers.Conv2D(32, (3, 3), activation='relu', input_shape=(28, 28, 1)),\n",
        "                    layers.Conv2D(64, (3, 3), activation='relu'),\n",
        "                    layers.MaxPool2D((2,2)),\n",
        "                    layers.Flatten(),\n",
        "                    layers.Dense(728, activation='relu'),\n",
        "                    layers.Dense(512, activation='relu'),\n",
        "                    layers.Dense(128, activation='relu'),\n",
        "                    layers.Dense(10, activation='softmax')\n",
        "])"
      ],
      "execution_count": 0,
      "outputs": []
    },
    {
      "cell_type": "code",
      "metadata": {
        "id": "bhjctVThVJ_D",
        "colab_type": "code",
        "colab": {}
      },
      "source": [
        "model.compile(loss=losses.CategoricalCrossentropy(),metrics=['accuracy'], optimizer=optimizers.Adam(0.001))"
      ],
      "execution_count": 0,
      "outputs": []
    },
    {
      "cell_type": "code",
      "metadata": {
        "id": "rkO2v45WVtjH",
        "colab_type": "code",
        "colab": {}
      },
      "source": [
        "model.fit(dataset_train,epochs=10,validation_data=dataset_test)"
      ],
      "execution_count": 0,
      "outputs": []
    },
    {
      "cell_type": "code",
      "metadata": {
        "id": "jfczkqiYwm1t",
        "colab_type": "code",
        "colab": {}
      },
      "source": [
        ""
      ],
      "execution_count": 0,
      "outputs": []
    }
  ]
}