{
  "nbformat": 4,
  "nbformat_minor": 0,
  "metadata": {
    "colab": {
      "name": "Untitled16.ipynb",
      "provenance": [],
      "private_outputs": true
    },
    "kernelspec": {
      "name": "python3",
      "display_name": "Python 3"
    }
  },
  "cells": [
    {
      "cell_type": "code",
      "metadata": {
        "id": "-qiXeY2m1w6m",
        "colab_type": "code",
        "colab": {}
      },
      "source": [
        "from google.colab import files\n",
        "files.upload()"
      ],
      "execution_count": 0,
      "outputs": []
    },
    {
      "cell_type": "code",
      "metadata": {
        "id": "e-JNabme1zSP",
        "colab_type": "code",
        "colab": {}
      },
      "source": [
        "!pip install -q kaggle\n",
        "!mkdir -p ~/.kaggle\n",
        "!cp kaggle.json ~/.kaggle/\n",
        "!ls ~/.kaggle\n",
        "!chmod 600 /root/.kaggle/kaggle.json"
      ],
      "execution_count": 0,
      "outputs": []
    },
    {
      "cell_type": "code",
      "metadata": {
        "id": "JPAsyOjU15TC",
        "colab_type": "code",
        "colab": {}
      },
      "source": [
        "!kaggle datasets download -d dansbecker/hot-dog-not-hot-dog"
      ],
      "execution_count": 0,
      "outputs": []
    },
    {
      "cell_type": "code",
      "metadata": {
        "id": "5oACTCTF2AJu",
        "colab_type": "code",
        "colab": {}
      },
      "source": [
        "!unzip hot-dog-not-hot-dog.zip"
      ],
      "execution_count": 0,
      "outputs": []
    },
    {
      "cell_type": "code",
      "metadata": {
        "id": "oA_4_CVT2C8x",
        "colab_type": "code",
        "colab": {}
      },
      "source": [
        "!ls seefood/train"
      ],
      "execution_count": 0,
      "outputs": []
    },
    {
      "cell_type": "code",
      "metadata": {
        "id": "gBfA3Vet2SAS",
        "colab_type": "code",
        "colab": {}
      },
      "source": [
        "import pathlib\n",
        "import tensorflow as tf\n",
        "import numpy as np\n",
        "import matplotlib.pyplot as plt"
      ],
      "execution_count": 0,
      "outputs": []
    },
    {
      "cell_type": "code",
      "metadata": {
        "id": "N6hWMR792eq1",
        "colab_type": "code",
        "colab": {}
      },
      "source": [
        "TRAIN_DIR = pathlib.Path('seefood/train')\n",
        "TEST_DIR  = pathlib.Path('seefood/test')"
      ],
      "execution_count": 0,
      "outputs": []
    },
    {
      "cell_type": "code",
      "metadata": {
        "id": "NMW_evBs2jHY",
        "colab_type": "code",
        "colab": {}
      },
      "source": [
        "train_list_ds = tf.data.Dataset.list_files(str(TRAIN_DIR/'*/*.jpg'))\n",
        "test_list_ds = tf.data.Dataset.list_files(str(TEST_DIR/'*/*.jpg'))"
      ],
      "execution_count": 0,
      "outputs": []
    },
    {
      "cell_type": "code",
      "metadata": {
        "id": "3Car-KMW3dLk",
        "colab_type": "code",
        "colab": {}
      },
      "source": [
        "for f in test_list_ds.take(5):\n",
        "  print(f.numpy())"
      ],
      "execution_count": 0,
      "outputs": []
    },
    {
      "cell_type": "code",
      "metadata": {
        "id": "6VryI12iCpuZ",
        "colab_type": "code",
        "colab": {}
      },
      "source": [
        "!ls seefood/test/"
      ],
      "execution_count": 0,
      "outputs": []
    },
    {
      "cell_type": "code",
      "metadata": {
        "id": "S_j_Cvqy3goe",
        "colab_type": "code",
        "colab": {}
      },
      "source": [
        "CLASS_NAMES = ['hot_dog', 'not_hot_dog']\n",
        "IMAGE_HEIGHT = 160\n",
        "IMAGE_WIDTH  = 160\n",
        "IMAGE_SHAPE = (IMAGE_HEIGHT, IMAGE_WIDTH, 3)\n",
        "BATCH_SIZE = 32"
      ],
      "execution_count": 0,
      "outputs": []
    },
    {
      "cell_type": "code",
      "metadata": {
        "id": "bJ34Kd3f3qdk",
        "colab_type": "code",
        "colab": {}
      },
      "source": [
        "def get_label(file_path):\n",
        "  print(file_path)\n",
        "  parts = tf.strings.split(file_path, '/')\n",
        "  \n",
        "  if parts[-2] == CLASS_NAMES[0]:\n",
        "    return 0\n",
        "  return 1"
      ],
      "execution_count": 0,
      "outputs": []
    },
    {
      "cell_type": "code",
      "metadata": {
        "id": "f7sSvlDY_SxX",
        "colab_type": "code",
        "colab": {}
      },
      "source": [
        "get_label('seefood/test/hot_dog/422730.jpg')"
      ],
      "execution_count": 0,
      "outputs": []
    },
    {
      "cell_type": "code",
      "metadata": {
        "id": "sjS-g-VY33Am",
        "colab_type": "code",
        "colab": {}
      },
      "source": [
        "def decode_img(img):\n",
        "  img = tf.image.decode_jpeg(img, channels=3)\n",
        "  img = tf.image.convert_image_dtype(img, tf.float32)\n",
        "  # img = (img/127.5) - 1\n",
        "  return tf.image.resize(img, [IMAGE_HEIGHT, IMAGE_WIDTH])"
      ],
      "execution_count": 0,
      "outputs": []
    },
    {
      "cell_type": "code",
      "metadata": {
        "id": "9sdxxxPX-1_a",
        "colab_type": "code",
        "colab": {}
      },
      "source": [
        "def process_path(file_path):\n",
        "  label = get_label(file_path=file_path)\n",
        "  img   = tf.io.read_file(file_path)\n",
        "  img   = decode_img(img)\n",
        "  return img, label"
      ],
      "execution_count": 0,
      "outputs": []
    },
    {
      "cell_type": "code",
      "metadata": {
        "id": "EmnNHu6j-3gz",
        "colab_type": "code",
        "colab": {}
      },
      "source": [
        "AUTOTUNE = tf.data.experimental.AUTOTUNE"
      ],
      "execution_count": 0,
      "outputs": []
    },
    {
      "cell_type": "code",
      "metadata": {
        "id": "YmFX0DkF-59n",
        "colab_type": "code",
        "colab": {}
      },
      "source": [
        "labeled_ds_train = train_list_ds.map(process_path, num_parallel_calls=AUTOTUNE)\n",
        "labeled_ds_test = test_list_ds.map(process_path, num_parallel_calls=AUTOTUNE)"
      ],
      "execution_count": 0,
      "outputs": []
    },
    {
      "cell_type": "code",
      "metadata": {
        "id": "oTOkzWYM-7a5",
        "colab_type": "code",
        "colab": {}
      },
      "source": [
        "for image, label in labeled_ds_test.take(1):\n",
        "  plt.imshow(image.numpy())\n",
        "  plt.title(label.numpy())\n",
        "  print(\"Image shape: \", image.numpy().shape)\n",
        "  print(\"Label: \", label.numpy())"
      ],
      "execution_count": 0,
      "outputs": []
    },
    {
      "cell_type": "code",
      "metadata": {
        "id": "fxXSCqFV_DdM",
        "colab_type": "code",
        "colab": {}
      },
      "source": [
        "def prepare_for_training(ds, cache=True, shuffle_buffer_size=1000):\n",
        "  if cache:\n",
        "    if isinstance(cache, str):\n",
        "      ds = ds.cache(cache)\n",
        "    else:\n",
        "      ds = ds.cache()\n",
        "\n",
        "  ds = ds.shuffle(buffer_size=shuffle_buffer_size)\n",
        "  # ds = ds.repeat()\n",
        "\n",
        "  ds = ds.batch(BATCH_SIZE)\n",
        "  ds = ds.prefetch(buffer_size=AUTOTUNE)\n",
        "\n",
        "  return ds"
      ],
      "execution_count": 0,
      "outputs": []
    },
    {
      "cell_type": "code",
      "metadata": {
        "id": "nykEiPCp_587",
        "colab_type": "code",
        "colab": {}
      },
      "source": [
        "train_ds = prepare_for_training(labeled_ds_train)\n",
        "test_ds  = prepare_for_training(labeled_ds_test)"
      ],
      "execution_count": 0,
      "outputs": []
    },
    {
      "cell_type": "code",
      "metadata": {
        "id": "I3-EeoXC_7-S",
        "colab_type": "code",
        "colab": {}
      },
      "source": [
        "image_batch, label_batch = next(iter(train_ds))"
      ],
      "execution_count": 0,
      "outputs": []
    },
    {
      "cell_type": "code",
      "metadata": {
        "id": "Ci0eG5Ya_9ad",
        "colab_type": "code",
        "colab": {}
      },
      "source": [
        "plt.imshow(image_batch[1].numpy())\n",
        "plt.title(label_batch[1].numpy())\n",
        "print(\"Image shape: \", image_batch[0].numpy().shape)\n",
        "print(\"Label: \", label_batch[0].numpy())"
      ],
      "execution_count": 0,
      "outputs": []
    },
    {
      "cell_type": "code",
      "metadata": {
        "id": "lt8FoL4-_-xi",
        "colab_type": "code",
        "colab": {}
      },
      "source": [
        "from tensorflow.keras import Sequential, layers, losses, optimizers"
      ],
      "execution_count": 0,
      "outputs": []
    },
    {
      "cell_type": "code",
      "metadata": {
        "id": "21KZ0lMfAA_N",
        "colab_type": "code",
        "colab": {}
      },
      "source": [
        "base_model = tf.keras.applications.MobileNetV2(input_shape=IMAGE_SHAPE,\n",
        "                                               include_top=False,\n",
        "                                               weights='imagenet')"
      ],
      "execution_count": 0,
      "outputs": []
    },
    {
      "cell_type": "code",
      "metadata": {
        "id": "b7-3TPxhACBW",
        "colab_type": "code",
        "colab": {}
      },
      "source": [
        "base_model.trainable = False"
      ],
      "execution_count": 0,
      "outputs": []
    },
    {
      "cell_type": "code",
      "metadata": {
        "id": "jZ77P7h4AEzI",
        "colab_type": "code",
        "colab": {}
      },
      "source": [
        "global_average_pooling_layer = tf.keras.layers.GlobalAveragePooling2D()"
      ],
      "execution_count": 0,
      "outputs": []
    },
    {
      "cell_type": "code",
      "metadata": {
        "id": "_chkc5siAQ8I",
        "colab_type": "code",
        "colab": {}
      },
      "source": [
        "prediction_layer = layers.Dense(1)"
      ],
      "execution_count": 0,
      "outputs": []
    },
    {
      "cell_type": "code",
      "metadata": {
        "id": "jbJImBFMAWKu",
        "colab_type": "code",
        "colab": {}
      },
      "source": [
        "model = Sequential([\n",
        "                    base_model,\n",
        "                    global_average_pooling_layer,\n",
        "                    prediction_layer\n",
        "])"
      ],
      "execution_count": 0,
      "outputs": []
    },
    {
      "cell_type": "code",
      "metadata": {
        "id": "FPzzQnmmAX8O",
        "colab_type": "code",
        "colab": {}
      },
      "source": [
        "model.compile(loss=losses.BinaryCrossentropy(from_logits=True),metrics=['accuracy'], optimizer=optimizers.Adam(0.001))"
      ],
      "execution_count": 0,
      "outputs": []
    },
    {
      "cell_type": "code",
      "metadata": {
        "id": "WnkU9YZqAmJX",
        "colab_type": "code",
        "colab": {}
      },
      "source": [
        "model.fit(train_ds,epochs=5, validation_data=test_ds)"
      ],
      "execution_count": 0,
      "outputs": []
    },
    {
      "cell_type": "code",
      "metadata": {
        "id": "mYudCBR2BE4p",
        "colab_type": "code",
        "colab": {}
      },
      "source": [
        "!ls"
      ],
      "execution_count": 0,
      "outputs": []
    },
    {
      "cell_type": "code",
      "metadata": {
        "id": "Hke7vqypAoXh",
        "colab_type": "code",
        "colab": {}
      },
      "source": [
        "from PIL import Image\n",
        "import numpy as np\n",
        "\n",
        "image = Image.open('chili-dog-horiz-a-1600.jpg')"
      ],
      "execution_count": 0,
      "outputs": []
    },
    {
      "cell_type": "code",
      "metadata": {
        "id": "PujNhfIMBAAi",
        "colab_type": "code",
        "colab": {}
      },
      "source": [
        "image = image.resize((IMAGE_HEIGHT, IMAGE_WIDTH), resample=Image.NEAREST)\n",
        "image = np.array(image)\n",
        "image = image[None,:,:,:]"
      ],
      "execution_count": 0,
      "outputs": []
    },
    {
      "cell_type": "code",
      "metadata": {
        "id": "vvccWqQXBLJd",
        "colab_type": "code",
        "colab": {}
      },
      "source": [
        "model.predict(image)"
      ],
      "execution_count": 0,
      "outputs": []
    },
    {
      "cell_type": "code",
      "metadata": {
        "id": "Dbl6Ku1VBTx6",
        "colab_type": "code",
        "colab": {}
      },
      "source": [
        ""
      ],
      "execution_count": 0,
      "outputs": []
    }
  ]
}