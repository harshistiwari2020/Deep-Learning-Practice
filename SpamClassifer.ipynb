{
  "nbformat": 4,
  "nbformat_minor": 0,
  "metadata": {
    "colab": {
      "name": "SpamClassifer.ipynb",
      "provenance": [],
      "private_outputs": true
    },
    "kernelspec": {
      "name": "python3",
      "display_name": "Python 3"
    }
  },
  "cells": [
    {
      "cell_type": "code",
      "metadata": {
        "id": "MYe9HJishuYV",
        "colab_type": "code",
        "colab": {}
      },
      "source": [
        "from google.colab import files\n",
        "files.upload()"
      ],
      "execution_count": 0,
      "outputs": []
    },
    {
      "cell_type": "code",
      "metadata": {
        "id": "f4NSlFsoh2A3",
        "colab_type": "code",
        "colab": {}
      },
      "source": [
        "!ls"
      ],
      "execution_count": 0,
      "outputs": []
    },
    {
      "cell_type": "code",
      "metadata": {
        "id": "1rMLRTE8h4gw",
        "colab_type": "code",
        "colab": {}
      },
      "source": [
        "!unzip ling-spam.zip"
      ],
      "execution_count": 0,
      "outputs": []
    },
    {
      "cell_type": "code",
      "metadata": {
        "id": "y_SVn0RQp8xm",
        "colab_type": "code",
        "colab": {}
      },
      "source": [
        "import pathlib\n",
        "import tensorflow as tf\n",
        "import re\n",
        "import io\n",
        "import pandas as pd\n",
        "import tensorflow_datasets as tfds\n",
        "\n",
        "from tensorflow.keras.layers import Embedding, GlobalAveragePooling1D, Dense, Bidirectional, LSTM\n",
        "from tensorflow.keras import Sequential"
      ],
      "execution_count": 0,
      "outputs": []
    },
    {
      "cell_type": "code",
      "metadata": {
        "id": "4mRYI9Hzxd-S",
        "colab_type": "code",
        "colab": {}
      },
      "source": [
        "TRAIN_DIR = pathlib.Path('train-mails')\n",
        "TEST_DIR  = pathlib.Path('test-mails')"
      ],
      "execution_count": 0,
      "outputs": []
    },
    {
      "cell_type": "code",
      "metadata": {
        "id": "MMbCubVjC0d8",
        "colab_type": "code",
        "colab": {}
      },
      "source": [
        "# Get text files.\n",
        "train_df = pd.DataFrame([str(a) for a in TRAIN_DIR.glob(\"*.txt\")])\n",
        "train_df.columns = ['file_path']\n",
        "\n",
        "test_df = pd.DataFrame([str(a) for a in TEST_DIR.glob(\"*.txt\")])\n",
        "test_df.columns = ['file_path']"
      ],
      "execution_count": 0,
      "outputs": []
    },
    {
      "cell_type": "code",
      "metadata": {
        "id": "E0MHJyOlC8wU",
        "colab_type": "code",
        "colab": {}
      },
      "source": [
        "train_df.head()"
      ],
      "execution_count": 0,
      "outputs": []
    },
    {
      "cell_type": "code",
      "metadata": {
        "id": "Z2ucStgeFD6D",
        "colab_type": "code",
        "colab": {}
      },
      "source": [
        "# remove useless text\n",
        "import unicodedata\n",
        "def unicode_to_ascii(s):\n",
        "  return ''.join(c for c in unicodedata.normalize('NFD', s)\n",
        "      if unicodedata.category(c) != 'Mn')\n",
        "\n",
        "\n",
        "def remove_junk_text(w):\n",
        "  w = unicode_to_ascii(w.lower().strip())\n",
        "  w = re.sub(r\"([?.!,¿])\", r\" \\1 \", w)\n",
        "  w = re.sub(r'[\" \"]+', \" \", w)\n",
        "\n",
        "  # w = re.sub(r'\\n', \" \\n \", w)\n",
        "\n",
        "  w = re.sub(r\"[^a-zA-Z?.!,¿]+\", \" \", w)\n",
        "\n",
        "  w = w.strip()\n",
        "  return w"
      ],
      "execution_count": 0,
      "outputs": []
    },
    {
      "cell_type": "code",
      "metadata": {
        "id": "iDBVHvr5Extj",
        "colab_type": "code",
        "colab": {}
      },
      "source": [
        "def get_text(file_path):\n",
        "  text = io.open(file_path, encoding='UTF-8').read().strip()\n",
        "  text = remove_junk_text(text)\n",
        "  return text"
      ],
      "execution_count": 0,
      "outputs": []
    },
    {
      "cell_type": "code",
      "metadata": {
        "id": "WkHGo420Dby_",
        "colab_type": "code",
        "colab": {}
      },
      "source": [
        "def get_label(file_path):\n",
        "  parts    = file_path.split(\"/\")\n",
        "  part_str = parts[-1][0: 3]\n",
        "  if part_str == \"spm\":\n",
        "    return 0\n",
        "  else:\n",
        "    return 1\n",
        "    \n",
        "train_df['text']  = train_df['file_path'].apply(get_text)\n",
        "train_df['label'] = train_df['file_path'].apply(get_label)\n",
        "\n",
        "test_df['text']  = test_df['file_path'].apply(get_text)\n",
        "test_df['label'] = test_df['file_path'].apply(get_label)"
      ],
      "execution_count": 0,
      "outputs": []
    },
    {
      "cell_type": "code",
      "metadata": {
        "id": "Fj97E_6yImHW",
        "colab_type": "code",
        "colab": {}
      },
      "source": [
        "test_df.head()"
      ],
      "execution_count": 0,
      "outputs": []
    },
    {
      "cell_type": "code",
      "metadata": {
        "id": "0Y6SDYd5IqKY",
        "colab_type": "code",
        "colab": {}
      },
      "source": [
        "train_df = train_df.drop(columns=['file_path'])\n",
        "test_df = test_df.drop(columns=['file_path'])"
      ],
      "execution_count": 0,
      "outputs": []
    },
    {
      "cell_type": "code",
      "metadata": {
        "id": "AyjEh34RMCFj",
        "colab_type": "code",
        "colab": {}
      },
      "source": [
        "BUFFER_SIZE = 50000\n",
        "BATCH_SIZE = 64\n",
        "TAKE_SIZE = 5000"
      ],
      "execution_count": 0,
      "outputs": []
    },
    {
      "cell_type": "code",
      "metadata": {
        "id": "1ZhXe99cy_Kj",
        "colab_type": "code",
        "colab": {}
      },
      "source": [
        "train_list_ds = tf.data.Dataset.from_tensor_slices((train_df.text, train_df.label)).shuffle(BUFFER_SIZE, reshuffle_each_iteration=False)\n",
        "test_list_ds  = tf.data.Dataset.from_tensor_slices((test_df.text, test_df.label)).shuffle(BUFFER_SIZE, reshuffle_each_iteration=False)"
      ],
      "execution_count": 0,
      "outputs": []
    },
    {
      "cell_type": "code",
      "metadata": {
        "id": "1T5I88Kpz4hV",
        "colab_type": "code",
        "colab": {}
      },
      "source": [
        "for file_name in test_list_ds.take(10):\n",
        "  print(file_name[1].numpy(),file_name[0].numpy())"
      ],
      "execution_count": 0,
      "outputs": []
    },
    {
      "cell_type": "code",
      "metadata": {
        "id": "A0kB5USWK4w8",
        "colab_type": "code",
        "colab": {}
      },
      "source": [
        "tokenizer = tfds.features.text.SubwordTextEncoder.build_from_corpus(\n",
        "    (text.numpy() for text, label in train_list_ds), target_vocab_size=2**15)"
      ],
      "execution_count": 0,
      "outputs": []
    },
    {
      "cell_type": "code",
      "metadata": {
        "id": "u10y00gMK4kn",
        "colab_type": "code",
        "colab": {}
      },
      "source": [
        "tokenizer.vocab_size"
      ],
      "execution_count": 0,
      "outputs": []
    },
    {
      "cell_type": "code",
      "metadata": {
        "id": "jmGp90s_NRZs",
        "colab_type": "code",
        "colab": {}
      },
      "source": [
        "sample_string = 'Transformer is awesome.'\n",
        "\n",
        "tokenized_string = tokenizer.encode(sample_string)\n",
        "print ('Tokenized string is {}'.format(tokenized_string))\n",
        "\n",
        "original_string = tokenizer.decode(tokenized_string)\n",
        "print ('The original string: {}'.format(original_string))\n",
        "\n",
        "assert original_string == sample_string"
      ],
      "execution_count": 0,
      "outputs": []
    },
    {
      "cell_type": "code",
      "metadata": {
        "id": "4TKpBgRxz-WJ",
        "colab_type": "code",
        "colab": {}
      },
      "source": [
        "def encode(text_tensor, label):\n",
        "  encoded_text = tokenizer.encode(text_tensor.numpy())\n",
        "  return encoded_text, label\n",
        "\n",
        "def encode_map_fn(text, label):\n",
        "  encoded_text, label = tf.py_function(\n",
        "      encode,\n",
        "      inp=[text, label],\n",
        "      Tout=(tf.int64, tf.int64)\n",
        "  )\n",
        "  encoded_text.set_shape([None])\n",
        "  label.set_shape([])\n",
        "  return encoded_text, label\n",
        "\n",
        "all_encoded_train_data = train_list_ds.map(encode_map_fn)\n",
        "all_encoded_test_data = test_list_ds.map(encode_map_fn)"
      ],
      "execution_count": 0,
      "outputs": []
    },
    {
      "cell_type": "code",
      "metadata": {
        "id": "BZ608y2KZ5Bh",
        "colab_type": "code",
        "colab": {}
      },
      "source": [
        "train_data = all_encoded_train_data.shuffle(BUFFER_SIZE)\n",
        "train_data = train_data.padded_batch(BATCH_SIZE)\n",
        "\n",
        "test_data = all_encoded_test_data.shuffle(BUFFER_SIZE)\n",
        "test_data = test_data.padded_batch(BATCH_SIZE)\n"
      ],
      "execution_count": 0,
      "outputs": []
    },
    {
      "cell_type": "code",
      "metadata": {
        "id": "EiMDqOJSfkmv",
        "colab_type": "code",
        "colab": {}
      },
      "source": [
        "for ex in train_data.take(1):\n",
        "  text = ex[0][10]\n",
        "  label = ex[1][10]\n",
        "  print(ex[0].shape,ex[1].shape)"
      ],
      "execution_count": 0,
      "outputs": []
    },
    {
      "cell_type": "code",
      "metadata": {
        "id": "fhrKfaFkgOD3",
        "colab_type": "code",
        "colab": {}
      },
      "source": [
        "label"
      ],
      "execution_count": 0,
      "outputs": []
    },
    {
      "cell_type": "code",
      "metadata": {
        "id": "Kkc54PdJfkgm",
        "colab_type": "code",
        "colab": {}
      },
      "source": [
        "tokenizer.decode(text.numpy())"
      ],
      "execution_count": 0,
      "outputs": []
    },
    {
      "cell_type": "code",
      "metadata": {
        "id": "p79KZQ4cfkdo",
        "colab_type": "code",
        "colab": {}
      },
      "source": [
        "embedding_dim = 64\n",
        "\n",
        "model = Sequential([\n",
        "                  Embedding(tokenizer.vocab_size, embedding_dim),\n",
        "                  Bidirectional(LSTM(64)),\n",
        "                  Dense(64, activation='relu'),\n",
        "                  Dense(64, activation='relu'),\n",
        "                  Dense(1)\n",
        "])\n",
        "model.summary()"
      ],
      "execution_count": 0,
      "outputs": []
    },
    {
      "cell_type": "code",
      "metadata": {
        "id": "fya6YsHFfkZ-",
        "colab_type": "code",
        "colab": {}
      },
      "source": [
        "model.compile(optimizer='adam', loss=tf.keras.losses.BinaryCrossentropy(from_logits=True),metrics=['accuracy'])\n",
        "\n",
        "history = model.fit(\n",
        "    train_data,\n",
        "    epochs=10,\n",
        "    validation_data=test_data\n",
        ")"
      ],
      "execution_count": 0,
      "outputs": []
    },
    {
      "cell_type": "code",
      "metadata": {
        "id": "9PFb-BL8fkV8",
        "colab_type": "code",
        "colab": {}
      },
      "source": [
        ""
      ],
      "execution_count": 0,
      "outputs": []
    },
    {
      "cell_type": "code",
      "metadata": {
        "id": "DuQ1aleFfkRG",
        "colab_type": "code",
        "colab": {}
      },
      "source": [
        ""
      ],
      "execution_count": 0,
      "outputs": []
    },
    {
      "cell_type": "code",
      "metadata": {
        "id": "p-Y_XqH-fkKH",
        "colab_type": "code",
        "colab": {}
      },
      "source": [
        ""
      ],
      "execution_count": 0,
      "outputs": []
    },
    {
      "cell_type": "code",
      "metadata": {
        "id": "EveT4TeXZ6C3",
        "colab_type": "code",
        "colab": {}
      },
      "source": [
        "for ex in train_data.take(1):\n",
        "  text = ex[0]\n",
        "  label = ex[1]\n",
        "  print(text)\n",
        "  print(label)\n",
        "  print(ex[0].shape,ex[1].shape)"
      ],
      "execution_count": 0,
      "outputs": []
    },
    {
      "cell_type": "code",
      "metadata": {
        "id": "haDByiHL2rFr",
        "colab_type": "code",
        "colab": {}
      },
      "source": [
        "string = \"spmsgc94.txt\""
      ],
      "execution_count": 0,
      "outputs": []
    },
    {
      "cell_type": "code",
      "metadata": {
        "id": "YwhA8VFD2tyw",
        "colab_type": "code",
        "colab": {}
      },
      "source": [
        "string[:3]"
      ],
      "execution_count": 0,
      "outputs": []
    },
    {
      "cell_type": "code",
      "metadata": {
        "id": "dZgPYe7250tj",
        "colab_type": "code",
        "colab": {}
      },
      "source": [
        "import unicodedata\n",
        "\n",
        "def remove_junk_text(w):\n",
        "  # w = w.numpy()\n",
        "  w = re.sub(r\"([?.!,¿])\", r\" \\1 \", w)\n",
        "  w = re.sub(r'[\" \"]+', \" \", w)\n",
        "\n",
        "  w = re.sub(r\"[^a-zA-Z?.!,¿]+\", \"\", w)\n",
        "\n",
        "  w = w.strip()\n",
        "  w = w.lower()\n",
        "\n",
        "  unicodedata.normalize('NFKD', w).encode('ascii','ignore')\n",
        "  return w"
      ],
      "execution_count": 0,
      "outputs": []
    },
    {
      "cell_type": "code",
      "metadata": {
        "id": "aD3Iga0q0XaT",
        "colab_type": "code",
        "colab": {}
      },
      "source": [
        "def get_label(file_path):\n",
        "  parts = tf.strings.split(file_path, \"/\")\n",
        "  part_str = tf.strings.substr(parts[-1], 0, 3)\n",
        "  if part_str == \"spm\":\n",
        "    return 0\n",
        "  else:\n",
        "    return 1"
      ],
      "execution_count": 0,
      "outputs": []
    },
    {
      "cell_type": "code",
      "metadata": {
        "id": "_knJf6T121e2",
        "colab_type": "code",
        "colab": {}
      },
      "source": [
        "# def get_email_text(file_path)"
      ],
      "execution_count": 0,
      "outputs": []
    },
    {
      "cell_type": "code",
      "metadata": {
        "id": "iZ0jom2u4owm",
        "colab_type": "code",
        "colab": {}
      },
      "source": [
        "def process_path(file_path):\n",
        "  label = get_label(file_path)\n",
        "  text  = tf.io.read_file(file_path)\n",
        "  # text  = remove_junk_text(text)\n",
        "  return text, label"
      ],
      "execution_count": 0,
      "outputs": []
    },
    {
      "cell_type": "code",
      "metadata": {
        "id": "n0yV1aYA4tuj",
        "colab_type": "code",
        "colab": {}
      },
      "source": [
        "AUTOTUNE = tf.data.experimental.AUTOTUNE\n",
        "labeled_ds = train_list_ds.map(process_path, num_parallel_calls=AUTOTUNE)"
      ],
      "execution_count": 0,
      "outputs": []
    },
    {
      "cell_type": "code",
      "metadata": {
        "id": "p5B4tPGn5Hv6",
        "colab_type": "code",
        "colab": {}
      },
      "source": [
        "for text, label in labeled_ds.take(5):\n",
        "  print(text)\n",
        "  print(label)"
      ],
      "execution_count": 0,
      "outputs": []
    },
    {
      "cell_type": "code",
      "metadata": {
        "id": "Lxi-R10i6p41",
        "colab_type": "code",
        "colab": {}
      },
      "source": [
        "def remove_junk(text, label):\n",
        "  junkless_text = remove_junk_text(text.numpy())\n",
        "  return junkless_text, label"
      ],
      "execution_count": 0,
      "outputs": []
    },
    {
      "cell_type": "code",
      "metadata": {
        "id": "NVrsJlyS91Zp",
        "colab_type": "code",
        "colab": {}
      },
      "source": [
        "def remove_junk_map_fn(text, label):\n",
        "  encoded_text, label = tf.py_function(\n",
        "      remove_junk,\n",
        "      inp=[text, label],\n",
        "      Tout=(tf.int64, tf.int8)\n",
        "  )\n",
        "  encoded_text.set_shape([None])\n",
        "  label.set_shape([])\n",
        "  return encoded_text, label\n",
        "\n",
        "labeled_ds = labeled_ds.map(remove_junk_map_fn)"
      ],
      "execution_count": 0,
      "outputs": []
    },
    {
      "cell_type": "code",
      "metadata": {
        "id": "sYa--aMc-QRn",
        "colab_type": "code",
        "colab": {}
      },
      "source": [
        "a,b = labeled_ds.take(1)"
      ],
      "execution_count": 0,
      "outputs": []
    },
    {
      "cell_type": "code",
      "metadata": {
        "id": "cl7QxB0M_FVj",
        "colab_type": "code",
        "colab": {}
      },
      "source": [
        ""
      ],
      "execution_count": 0,
      "outputs": []
    }
  ]
}