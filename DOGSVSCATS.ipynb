{
 "cells": [
  {
   "cell_type": "code",
   "execution_count": null,
   "metadata": {
    "colab": {},
    "colab_type": "code",
    "id": "tKtbRkGGPIat"
   },
   "outputs": [],
   "source": [
    "from google.colab import files"
   ]
  },
  {
   "cell_type": "code",
   "execution_count": null,
   "metadata": {
    "colab": {},
    "colab_type": "code",
    "id": "ZMBOxjtmPeN3"
   },
   "outputs": [],
   "source": [
    "files.upload()"
   ]
  },
  {
   "cell_type": "code",
   "execution_count": null,
   "metadata": {
    "colab": {},
    "colab_type": "code",
    "id": "MCHVbM9-PfWl"
   },
   "outputs": [],
   "source": [
    "!pip install -q kaggle\n",
    "!mkdir -p ~/.kaggle\n",
    "!cp kaggle.json ~/.kaggle/\n",
    "!ls ~/.kaggle\n",
    "!chmod 600 /root/.kaggle/kaggle.json"
   ]
  },
  {
   "cell_type": "code",
   "execution_count": null,
   "metadata": {
    "colab": {},
    "colab_type": "code",
    "id": "4ll8FxrvPlPj"
   },
   "outputs": [],
   "source": [
    "!kaggle datasets download -d biaiscience/dogs-vs-cats"
   ]
  },
  {
   "cell_type": "code",
   "execution_count": null,
   "metadata": {
    "colab": {},
    "colab_type": "code",
    "id": "-bUmntGLQQGM"
   },
   "outputs": [],
   "source": [
    "!unzip dogs-vs-cats.zip"
   ]
  },
  {
   "cell_type": "code",
   "execution_count": null,
   "metadata": {
    "colab": {},
    "colab_type": "code",
    "id": "N62qiQlMQWBS"
   },
   "outputs": [],
   "source": [
    "!ls "
   ]
  },
  {
   "cell_type": "code",
   "execution_count": null,
   "metadata": {
    "colab": {},
    "colab_type": "code",
    "id": "iwtDLYV0STfJ"
   },
   "outputs": [],
   "source": [
    "import pathlib\n",
    "import tensorflow as tf\n",
    "import numpy as np\n",
    "import matplotlib.pyplot as plt"
   ]
  },
  {
   "cell_type": "code",
   "execution_count": null,
   "metadata": {
    "colab": {},
    "colab_type": "code",
    "id": "pzFAf3gZQiE9"
   },
   "outputs": [],
   "source": [
    "TRAIN_DIR = pathlib.Path('train/train')\n",
    "TEST_DIR  = pathlib.Path('test/test')"
   ]
  },
  {
   "cell_type": "code",
   "execution_count": null,
   "metadata": {
    "colab": {},
    "colab_type": "code",
    "id": "LysyGbEOSYad"
   },
   "outputs": [],
   "source": [
    "train_list_ds = tf.data.Dataset.list_files(str(TRAIN_DIR/'*.*.jpg'))\n",
    "# test_list_ds = tf.data.Dataset.list_files(str(TEST_DIR/'*.*.jpg'))"
   ]
  },
  {
   "cell_type": "code",
   "execution_count": null,
   "metadata": {
    "colab": {},
    "colab_type": "code",
    "id": "8QuU3CbzSmZF"
   },
   "outputs": [],
   "source": [
    "for f in train_list_ds.take(5):\n",
    "  print(f.numpy())"
   ]
  },
  {
   "cell_type": "code",
   "execution_count": null,
   "metadata": {
    "colab": {},
    "colab_type": "code",
    "id": "HSCakB8OTctX"
   },
   "outputs": [],
   "source": [
    "CLASS_NAMES = ['dog', 'cat']\n",
    "IMAGE_HEIGHT = 160\n",
    "IMAGE_WIDTH  = 160\n",
    "IMAGE_SHAPE = (IMAGE_HEIGHT, IMAGE_WIDTH, 3)\n",
    "BATCH_SIZE = 32"
   ]
  },
  {
   "cell_type": "code",
   "execution_count": null,
   "metadata": {
    "colab": {},
    "colab_type": "code",
    "id": "H5uFmSsmSuch"
   },
   "outputs": [],
   "source": [
    "def get_label(file_path):\n",
    "  print(file_path)\n",
    "  parts = tf.strings.split(file_path, '/')\n",
    "  parts = tf.strings.split(parts[-1], '.')\n",
    "  if parts[-3] == CLASS_NAMES[0]:\n",
    "    return 0\n",
    "  return 1\n",
    "  print(parts[-3])"
   ]
  },
  {
   "cell_type": "code",
   "execution_count": null,
   "metadata": {
    "colab": {},
    "colab_type": "code",
    "id": "NwCrRQ4iT2Wv"
   },
   "outputs": [],
   "source": [
    "def decode_img(img):\n",
    "  img = tf.image.decode_jpeg(img, channels=3)\n",
    "  img = tf.image.convert_image_dtype(img, tf.float32)\n",
    "  # img = (img/127.5) - 1\n",
    "  return tf.image.resize(img, [IMAGE_HEIGHT, IMAGE_WIDTH])"
   ]
  },
  {
   "cell_type": "code",
   "execution_count": null,
   "metadata": {
    "colab": {},
    "colab_type": "code",
    "id": "oT-59ETsV0zD"
   },
   "outputs": [],
   "source": [
    "def process_path(file_path):\n",
    "  label = get_label(file_path=file_path)\n",
    "  img   = tf.io.read_file(file_path)\n",
    "  img   = decode_img(img)\n",
    "  return img, label"
   ]
  },
  {
   "cell_type": "code",
   "execution_count": null,
   "metadata": {
    "colab": {},
    "colab_type": "code",
    "id": "JYQ6VharWN6K"
   },
   "outputs": [],
   "source": [
    "AUTOTUNE = tf.data.experimental.AUTOTUNE"
   ]
  },
  {
   "cell_type": "code",
   "execution_count": null,
   "metadata": {
    "colab": {},
    "colab_type": "code",
    "id": "yiLgz_jkWFeI"
   },
   "outputs": [],
   "source": [
    "labeled_ds = train_list_ds.map(process_path, num_parallel_calls=AUTOTUNE)"
   ]
  },
  {
   "cell_type": "code",
   "execution_count": null,
   "metadata": {
    "colab": {},
    "colab_type": "code",
    "id": "Hebym9ZNWPg4"
   },
   "outputs": [],
   "source": [
    "for image, label in labeled_ds.take(1):\n",
    "  plt.imshow(image.numpy())\n",
    "  plt.title(label.numpy())\n",
    "  print(\"Image shape: \", image.numpy().shape)\n",
    "  print(\"Label: \", label.numpy())"
   ]
  },
  {
   "cell_type": "code",
   "execution_count": null,
   "metadata": {
    "colab": {},
    "colab_type": "code",
    "id": "XhywrmIhYO3M"
   },
   "outputs": [],
   "source": [
    "def prepare_for_training(ds, cache=True, shuffle_buffer_size=1000):\n",
    "  if cache:\n",
    "    if isinstance(cache, str):\n",
    "      ds = ds.cache(cache)\n",
    "    else:\n",
    "      ds = ds.cache()\n",
    "\n",
    "  ds = ds.shuffle(buffer_size=shuffle_buffer_size)\n",
    "  # ds = ds.repeat()\n",
    "\n",
    "  ds = ds.batch(BATCH_SIZE)\n",
    "  ds = ds.prefetch(buffer_size=AUTOTUNE)\n",
    "\n",
    "  return ds"
   ]
  },
  {
   "cell_type": "code",
   "execution_count": null,
   "metadata": {
    "colab": {},
    "colab_type": "code",
    "id": "OFTTdV5dYyvg"
   },
   "outputs": [],
   "source": [
    "train_ds = prepare_for_training(labeled_ds)"
   ]
  },
  {
   "cell_type": "code",
   "execution_count": null,
   "metadata": {
    "colab": {},
    "colab_type": "code",
    "id": "CHa5WJ7cY3TA"
   },
   "outputs": [],
   "source": [
    "image_batch, label_batch = next(iter(train_ds))"
   ]
  },
  {
   "cell_type": "code",
   "execution_count": null,
   "metadata": {
    "colab": {},
    "colab_type": "code",
    "id": "F9xzFttlZEyX"
   },
   "outputs": [],
   "source": [
    "plt.imshow(image_batch[1].numpy())\n",
    "plt.title(label_batch[1].numpy())\n",
    "print(\"Image shape: \", image_batch[0].numpy().shape)\n",
    "print(\"Label: \", label_batch[0].numpy())"
   ]
  },
  {
   "cell_type": "code",
   "execution_count": null,
   "metadata": {
    "colab": {},
    "colab_type": "code",
    "id": "_DiUMBuCZSHt"
   },
   "outputs": [],
   "source": [
    "from tensorflow.keras import Sequential, layers, losses, optimizers"
   ]
  },
  {
   "cell_type": "code",
   "execution_count": null,
   "metadata": {
    "colab": {},
    "colab_type": "code",
    "id": "Dy0j3k5oeTyh"
   },
   "outputs": [],
   "source": [
    "base_model = tf.keras.applications.MobileNetV2(input_shape=IMAGE_SHAPE,\n",
    "                                               include_top=False,\n",
    "                                               weights='imagenet')"
   ]
  },
  {
   "cell_type": "code",
   "execution_count": null,
   "metadata": {
    "colab": {},
    "colab_type": "code",
    "id": "SrlXGSIXebUZ"
   },
   "outputs": [],
   "source": [
    "feature_batch = base_model(image_batch)"
   ]
  },
  {
   "cell_type": "code",
   "execution_count": null,
   "metadata": {
    "colab": {},
    "colab_type": "code",
    "id": "GLQykdALenb8"
   },
   "outputs": [],
   "source": [
    "feature_batch.shape"
   ]
  },
  {
   "cell_type": "code",
   "execution_count": null,
   "metadata": {
    "colab": {},
    "colab_type": "code",
    "id": "yPPTrcR9esfZ"
   },
   "outputs": [],
   "source": [
    "base_model.trainable = False"
   ]
  },
  {
   "cell_type": "code",
   "execution_count": null,
   "metadata": {
    "colab": {},
    "colab_type": "code",
    "id": "lnHCsZUXewpd"
   },
   "outputs": [],
   "source": [
    "base_model.summary()"
   ]
  },
  {
   "cell_type": "code",
   "execution_count": null,
   "metadata": {
    "colab": {},
    "colab_type": "code",
    "id": "43QjibHBezJR"
   },
   "outputs": [],
   "source": [
    "global_average_pooling_layer = tf.keras.layers.GlobalAveragePooling2D()\n",
    "feature_batch_average = global_average_pooling_layer(feature_batch)\n",
    "print(feature_batch_average.shape)"
   ]
  },
  {
   "cell_type": "code",
   "execution_count": null,
   "metadata": {
    "colab": {},
    "colab_type": "code",
    "id": "X0pkrlxUfFmv"
   },
   "outputs": [],
   "source": [
    "prediction_layer = layers.Dense(1)\n",
    "prediction_batch = prediction_layer(feature_batch_average)\n",
    "print(prediction_batch.shape)"
   ]
  },
  {
   "cell_type": "code",
   "execution_count": null,
   "metadata": {
    "colab": {},
    "colab_type": "code",
    "id": "MhAu5a6OfWeL"
   },
   "outputs": [],
   "source": [
    "model = Sequential([\n",
    "                    base_model,\n",
    "                    global_average_pooling_layer,\n",
    "                    prediction_layer\n",
    "])"
   ]
  },
  {
   "cell_type": "code",
   "execution_count": null,
   "metadata": {
    "colab": {},
    "colab_type": "code",
    "id": "1RR65YF3ZYxX"
   },
   "outputs": [],
   "source": [
    "model = Sequential([\n",
    "                    layers.Conv2D(32, (3, 3), activation='relu', input_shape=(128, 128, 3)),\n",
    "                    layers.Conv2D(64, (3, 3), activation='relu'),\n",
    "                    layers.MaxPool2D((2,2)),\n",
    "                    layers.Conv2D(128, (3, 3), activation='relu'),\n",
    "                    layers.MaxPool2D((2,2)),\n",
    "                    layers.Flatten(),\n",
    "                    layers.Dense(728, activation='relu'),\n",
    "                    layers.Dense(512, activation='relu'),\n",
    "                    # layers.Dense(128, activation='relu'),\n",
    "                    # layers.Dense(10, activation='relu'),\n",
    "                    layers.Dense(1)\n",
    "])"
   ]
  },
  {
   "cell_type": "code",
   "execution_count": null,
   "metadata": {
    "colab": {},
    "colab_type": "code",
    "id": "B6xviOcaZkTL"
   },
   "outputs": [],
   "source": [
    "model.compile(loss=losses.BinaryCrossentropy(from_logits=True),metrics=['accuracy'], optimizer=optimizers.Adam(0.001))"
   ]
  },
  {
   "cell_type": "code",
   "execution_count": null,
   "metadata": {
    "colab": {},
    "colab_type": "code",
    "id": "dwAxoU_qfiu_"
   },
   "outputs": [],
   "source": [
    "model.summary()"
   ]
  },
  {
   "cell_type": "code",
   "execution_count": null,
   "metadata": {
    "colab": {},
    "colab_type": "code",
    "id": "P6vEU5rPZmts"
   },
   "outputs": [],
   "source": [
    "model.fit(train_ds,epochs=10)"
   ]
  },
  {
   "cell_type": "code",
   "execution_count": null,
   "metadata": {
    "colab": {},
    "colab_type": "code",
    "id": "Ip_0qQysZuDF"
   },
   "outputs": [],
   "source": [
    "model.predict()"
   ]
  },
  {
   "cell_type": "code",
   "execution_count": null,
   "metadata": {
    "colab": {},
    "colab_type": "code",
    "id": "jNzdwMioZ8eV"
   },
   "outputs": [],
   "source": [
    "from PIL import Image\n",
    "import numpy as np"
   ]
  },
  {
   "cell_type": "code",
   "execution_count": null,
   "metadata": {
    "colab": {},
    "colab_type": "code",
    "id": "zEFyK4jdqmny"
   },
   "outputs": [],
   "source": [
    "!ls"
   ]
  },
  {
   "cell_type": "code",
   "execution_count": null,
   "metadata": {
    "colab": {},
    "colab_type": "code",
    "id": "kIU_uTNOqjuS"
   },
   "outputs": [],
   "source": [
    "image = Image.open('cat.jpg')"
   ]
  },
  {
   "cell_type": "code",
   "execution_count": null,
   "metadata": {
    "colab": {},
    "colab_type": "code",
    "id": "BE93a64orBx3"
   },
   "outputs": [],
   "source": [
    "image = image.resize((IMAGE_HEIGHT, IMAGE_WIDTH), resample=Image.NEAREST)"
   ]
  },
  {
   "cell_type": "code",
   "execution_count": null,
   "metadata": {
    "colab": {},
    "colab_type": "code",
    "id": "jd_Lth0hqquf"
   },
   "outputs": [],
   "source": [
    "image = np.array(image)"
   ]
  },
  {
   "cell_type": "code",
   "execution_count": null,
   "metadata": {
    "colab": {},
    "colab_type": "code",
    "id": "EjGHHTPOreGO"
   },
   "outputs": [],
   "source": [
    "image = image[None,:,:,:]"
   ]
  },
  {
   "cell_type": "code",
   "execution_count": null,
   "metadata": {
    "colab": {},
    "colab_type": "code",
    "id": "Hqgqv5afrvfO"
   },
   "outputs": [],
   "source": [
    "image.shape"
   ]
  },
  {
   "cell_type": "code",
   "execution_count": null,
   "metadata": {
    "colab": {},
    "colab_type": "code",
    "id": "4x8XjFwQqtk4"
   },
   "outputs": [],
   "source": [
    "model.predict(image)"
   ]
  },
  {
   "cell_type": "code",
   "execution_count": null,
   "metadata": {
    "colab": {},
    "colab_type": "code",
    "id": "LmT1bBryrbl0"
   },
   "outputs": [],
   "source": [
    "model.save_weights('my_model.h5')"
   ]
  },
  {
   "cell_type": "code",
   "execution_count": null,
   "metadata": {
    "colab": {},
    "colab_type": "code",
    "id": "U1hXYBtuscMg"
   },
   "outputs": [],
   "source": [
    "files.download('my_model.h5')"
   ]
  },
  {
   "cell_type": "code",
   "execution_count": null,
   "metadata": {
    "colab": {},
    "colab_type": "code",
    "id": "3mQYSW8Ks1nn"
   },
   "outputs": [],
   "source": []
  }
 ],
 "metadata": {
  "colab": {
   "name": "Untitled15.ipynb",
   "private_outputs": true,
   "provenance": []
  },
  "kernelspec": {
   "display_name": "Python 3",
   "language": "python",
   "name": "python3"
  },
  "language_info": {
   "codemirror_mode": {
    "name": "ipython",
    "version": 3
   },
   "file_extension": ".py",
   "mimetype": "text/x-python",
   "name": "python",
   "nbconvert_exporter": "python",
   "pygments_lexer": "ipython3",
   "version": "3.7.6"
  }
 },
 "nbformat": 4,
 "nbformat_minor": 4
}
