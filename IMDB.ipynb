{
  "nbformat": 4,
  "nbformat_minor": 0,
  "metadata": {
    "colab": {
      "name": "IMDB.ipynb",
      "provenance": [],
      "private_outputs": true
    },
    "kernelspec": {
      "name": "python3",
      "display_name": "Python 3"
    }
  },
  "cells": [
    {
      "cell_type": "code",
      "metadata": {
        "id": "T7_m75sCkrIL",
        "colab_type": "code",
        "colab": {}
      },
      "source": [
        "from google.colab import files\n",
        "files.upload()"
      ],
      "execution_count": 0,
      "outputs": []
    },
    {
      "cell_type": "code",
      "metadata": {
        "id": "PbMVIKAqlcMA",
        "colab_type": "code",
        "colab": {}
      },
      "source": [
        "!pip install -q kaggle\n",
        "!mkdir -p ~/.kaggle\n",
        "!cp kaggle.json ~/.kaggle/\n",
        "!ls ~/.kaggle\n",
        "!chmod 600 /root/.kaggle/kaggle.json"
      ],
      "execution_count": 0,
      "outputs": []
    },
    {
      "cell_type": "code",
      "metadata": {
        "id": "9JMBWzkR-BcH",
        "colab_type": "code",
        "colab": {}
      },
      "source": [
        "!ls"
      ],
      "execution_count": 0,
      "outputs": []
    },
    {
      "cell_type": "code",
      "metadata": {
        "id": "_tRAb_4rwaEZ",
        "colab_type": "code",
        "colab": {}
      },
      "source": [
        "!kaggle datasets download -d lakshmi25npathi/imdb-dataset-of-50k-movie-reviews"
      ],
      "execution_count": 0,
      "outputs": []
    },
    {
      "cell_type": "code",
      "metadata": {
        "id": "lmQZJCqJxfbR",
        "colab_type": "code",
        "colab": {}
      },
      "source": [
        "!unzip imdb-dataset-of-50k-movie-reviews.zip"
      ],
      "execution_count": 0,
      "outputs": []
    },
    {
      "cell_type": "code",
      "metadata": {
        "id": "hLN1MOqB-j-I",
        "colab_type": "code",
        "colab": {}
      },
      "source": [
        "!head \"IMDB Dataset.csv\""
      ],
      "execution_count": 0,
      "outputs": []
    },
    {
      "cell_type": "code",
      "metadata": {
        "id": "LehD8LEQl_jD",
        "colab_type": "code",
        "colab": {}
      },
      "source": [
        "import tensorflow as tf\n",
        "import pandas as pd\n",
        "import tensorflow_datasets as tfds\n",
        "import re\n",
        "from pathlib import Path\n",
        "from tensorflow.keras.layers import Embedding, GlobalAveragePooling1D, Dense, Bidirectional, LSTM\n",
        "from tensorflow.keras import Sequential"
      ],
      "execution_count": 0,
      "outputs": []
    },
    {
      "cell_type": "code",
      "metadata": {
        "id": "2p-pyta2_0U6",
        "colab_type": "code",
        "colab": {}
      },
      "source": [
        "df = pd.read_csv('IMDB Dataset.csv', encoding='latin')\n",
        "df.head()"
      ],
      "execution_count": 0,
      "outputs": []
    },
    {
      "cell_type": "code",
      "metadata": {
        "id": "1dEG9yzKD0fl",
        "colab_type": "code",
        "colab": {}
      },
      "source": [
        "df.sentiment = pd.Categorical(df.sentiment)\n",
        "df['sentiment'] = df.sentiment.cat.codes\n",
        "df.head()"
      ],
      "execution_count": 0,
      "outputs": []
    },
    {
      "cell_type": "code",
      "metadata": {
        "id": "8QPMNmxHCkM1",
        "colab_type": "code",
        "colab": {}
      },
      "source": [
        "import unicodedata\n",
        "\n",
        "def remove_br(w):\n",
        "  w = re.sub(r\"([?.!,¿])\", r\" \\1 \", w)\n",
        "  w = re.sub(r'[\" \"]+', \" \", w)\n",
        "\n",
        "  # replacing everything with space except (a-z, A-Z, \".\", \"?\", \"!\", \",\")\n",
        "  w = re.sub(r\"[^a-zA-Z?.!,¿]+\", \" \", w)\n",
        "\n",
        "  w = w.strip()\n",
        "  w = w.lower()\n",
        "\n",
        "  # title = u\"Klüft skräms inför på fédéral électoral große\"\n",
        "  unicodedata.normalize('NFKD', w).encode('ascii','ignore')\n",
        "  # 'Kluft skrams infor pa federal electoral groe'\n",
        "\n",
        "  return re.sub(r'(<.?br.?[/]?>)',\"\", w)\n",
        "df['review'] = df['review'].apply(remove_br)\n",
        "# remove_br('dasda')"
      ],
      "execution_count": 0,
      "outputs": []
    },
    {
      "cell_type": "code",
      "metadata": {
        "id": "EsF0b9aZdGpV",
        "colab_type": "code",
        "colab": {}
      },
      "source": [
        "df.head()"
      ],
      "execution_count": 0,
      "outputs": []
    },
    {
      "cell_type": "code",
      "metadata": {
        "id": "z5voidWedvF1",
        "colab_type": "code",
        "colab": {}
      },
      "source": [
        "dataset = tf.data.Dataset.from_tensor_slices((df.review.values, df.sentiment.values))"
      ],
      "execution_count": 0,
      "outputs": []
    },
    {
      "cell_type": "code",
      "metadata": {
        "id": "AkfveWOhehLf",
        "colab_type": "code",
        "colab": {}
      },
      "source": [
        "for feat, targ in dataset.take(5):\n",
        "  print(feat, \" \", targ)"
      ],
      "execution_count": 0,
      "outputs": []
    },
    {
      "cell_type": "code",
      "metadata": {
        "id": "v11rOOKSqhm0",
        "colab_type": "code",
        "colab": {}
      },
      "source": [
        "BUFFER_SIZE = 50000\n",
        "BATCH_SIZE = 64\n",
        "TAKE_SIZE = 5000"
      ],
      "execution_count": 0,
      "outputs": []
    },
    {
      "cell_type": "code",
      "metadata": {
        "id": "ol7KACRg518A",
        "colab_type": "code",
        "colab": {}
      },
      "source": [
        "all_labeled_dataset = dataset.shuffle(BUFFER_SIZE, reshuffle_each_iteration=False)"
      ],
      "execution_count": 0,
      "outputs": []
    },
    {
      "cell_type": "code",
      "metadata": {
        "id": "KTMXviN-nyCH",
        "colab_type": "code",
        "colab": {}
      },
      "source": [
        "for ex in all_labeled_dataset.take(5):\n",
        "  print(ex)"
      ],
      "execution_count": 0,
      "outputs": []
    },
    {
      "cell_type": "code",
      "metadata": {
        "id": "nVDBzPFHooUe",
        "colab_type": "code",
        "colab": {}
      },
      "source": [
        "tokenizer_en = tfds.features.text.SubwordTextEncoder.build_from_corpus(\n",
        "    (text.numpy() for text, label in all_labeled_dataset), target_vocab_size=2**13)"
      ],
      "execution_count": 0,
      "outputs": []
    },
    {
      "cell_type": "code",
      "metadata": {
        "id": "MgjZTHOM9k2-",
        "colab_type": "code",
        "colab": {}
      },
      "source": [
        "tokenizer_en.vocab_size"
      ],
      "execution_count": 0,
      "outputs": []
    },
    {
      "cell_type": "code",
      "metadata": {
        "id": "-iurK2rKgPax",
        "colab_type": "code",
        "colab": {}
      },
      "source": [
        "sample_string = 'Transformer is awesome.'\n",
        "\n",
        "tokenized_string = tokenizer_en.encode(sample_string)\n",
        "print ('Tokenized string is {}'.format(tokenized_string))\n",
        "\n",
        "original_string = tokenizer_en.decode(tokenized_string)\n",
        "print ('The original string: {}'.format(original_string))\n",
        "\n",
        "assert original_string == sample_string"
      ],
      "execution_count": 0,
      "outputs": []
    },
    {
      "cell_type": "code",
      "metadata": {
        "id": "JMWQwgcM9FHH",
        "colab_type": "code",
        "colab": {}
      },
      "source": [
        "# encoder = tfds.features.text.Tok?enTextEncoder(vocabulary_set,)\n",
        "\n",
        "def encode(text_tensor, label):\n",
        "  encoded_text = tokenizer_en.encode(text_tensor.numpy())\n",
        "  return encoded_text, label"
      ],
      "execution_count": 0,
      "outputs": []
    },
    {
      "cell_type": "code",
      "metadata": {
        "id": "iVxb3WQqCIy7",
        "colab_type": "code",
        "colab": {}
      },
      "source": [
        "def encode_map_fn(text, label):\n",
        "  encoded_text, label = tf.py_function(\n",
        "      encode,\n",
        "      inp=[text, label],\n",
        "      Tout=(tf.int64, tf.int8)\n",
        "  )\n",
        "  encoded_text.set_shape([None])\n",
        "  label.set_shape([])\n",
        "  return encoded_text, label\n",
        "\n",
        "all_encoded_data = all_labeled_dataset.map(encode_map_fn)"
      ],
      "execution_count": 0,
      "outputs": []
    },
    {
      "cell_type": "code",
      "metadata": {
        "id": "AQPUsQ5JEoMW",
        "colab_type": "code",
        "colab": {}
      },
      "source": [
        "train_data = all_encoded_data.shuffle(BUFFER_SIZE)\n",
        "train_data = train_data.padded_batch(BATCH_SIZE)\n",
        "\n",
        "# test_data  = all_encoded_data.take(TAKE_SIZE)\n",
        "# test_data  = test_data.padded_batch(BATCH_SIZE)"
      ],
      "execution_count": 0,
      "outputs": []
    },
    {
      "cell_type": "code",
      "metadata": {
        "id": "qSwKX7QeFJjq",
        "colab_type": "code",
        "colab": {}
      },
      "source": [
        "for ex in train_data.take(1):\n",
        "  text = ex[0][10]\n",
        "  label = ex[1][10]\n",
        "  print(ex[0].shape,ex[1].shape)"
      ],
      "execution_count": 0,
      "outputs": []
    },
    {
      "cell_type": "code",
      "metadata": {
        "id": "n9aJHsgqwwRw",
        "colab_type": "code",
        "colab": {}
      },
      "source": [
        "yr = text.numpy()"
      ],
      "execution_count": 0,
      "outputs": []
    },
    {
      "cell_type": "code",
      "metadata": {
        "id": "WfpCMg0Ww3tP",
        "colab_type": "code",
        "colab": {}
      },
      "source": [
        "yr.shape"
      ],
      "execution_count": 0,
      "outputs": []
    },
    {
      "cell_type": "code",
      "metadata": {
        "id": "B0pE4YLSt5PI",
        "colab_type": "code",
        "colab": {}
      },
      "source": [
        "list_ = re.findall('\\d+', text.numpy())"
      ],
      "execution_count": 0,
      "outputs": []
    },
    {
      "cell_type": "code",
      "metadata": {
        "id": "tJBpIotbt5sF",
        "colab_type": "code",
        "colab": {}
      },
      "source": [
        "list_ = [int(a) for a in list_]"
      ],
      "execution_count": 0,
      "outputs": []
    },
    {
      "cell_type": "code",
      "metadata": {
        "id": "XT73Zxq9uGLk",
        "colab_type": "code",
        "colab": {}
      },
      "source": [
        "tokenizer_en.decode(yr)"
      ],
      "execution_count": 0,
      "outputs": []
    },
    {
      "cell_type": "code",
      "metadata": {
        "id": "T6riaQ2ivf_l",
        "colab_type": "code",
        "colab": {}
      },
      "source": [
        "label"
      ],
      "execution_count": 0,
      "outputs": []
    },
    {
      "cell_type": "code",
      "metadata": {
        "id": "H8i9FGZ97iCh",
        "colab_type": "code",
        "colab": {}
      },
      "source": [
        "embedding_dim = 64\n",
        "\n",
        "model = Sequential([\n",
        "                  Embedding(tokenizer_en.vocab_size, embedding_dim),\n",
        "                  Bidirectional(LSTM(64)),\n",
        "                  Dense(64, activation='relu'),\n",
        "                  Dense(64, activation='relu'),\n",
        "                  Dense(1)\n",
        "])\n",
        "model.summary()"
      ],
      "execution_count": 0,
      "outputs": []
    },
    {
      "cell_type": "code",
      "metadata": {
        "id": "2EAP5EgX_uYr",
        "colab_type": "code",
        "colab": {}
      },
      "source": [
        "model.compile(optimizer='adam', loss=tf.keras.losses.BinaryCrossentropy(from_logits=True),metrics=['accuracy'])\n",
        "history = model.fit(\n",
        "    train_data,\n",
        "    epochs=10\n",
        ")"
      ],
      "execution_count": 0,
      "outputs": []
    },
    {
      "cell_type": "code",
      "metadata": {
        "id": "3uh6Kpm0Et_6",
        "colab_type": "code",
        "colab": {}
      },
      "source": [
        "model.save('saved_model/my_model')"
      ],
      "execution_count": 0,
      "outputs": []
    },
    {
      "cell_type": "code",
      "metadata": {
        "id": "aKbg2L-S_Hmn",
        "colab_type": "code",
        "colab": {}
      },
      "source": [
        "!ls saved_model/"
      ],
      "execution_count": 0,
      "outputs": []
    },
    {
      "cell_type": "code",
      "metadata": {
        "id": "xjFVzeWL_J4v",
        "colab_type": "code",
        "colab": {}
      },
      "source": [
        "def pad_to_size(vec, size):\n",
        "  zeros = [0] * (size - len(vec))\n",
        "  vec.extend(zeros)\n",
        "  return vec"
      ],
      "execution_count": 0,
      "outputs": []
    },
    {
      "cell_type": "code",
      "metadata": {
        "id": "PXDVWg2h_Ydc",
        "colab_type": "code",
        "colab": {}
      },
      "source": [
        "def sample_predict(sample_pred_text, pad):\n",
        "  encoded_sample_prediction_text = tokenizer_en.encode(sample_pred_text)\n",
        "\n",
        "  if pad:\n",
        "    encoded_sample_pred_text = pad_to_size(encoded_sample_prediction_text, 64)\n",
        "  encoded_sample_pred_text = tf.cast(encoded_sample_prediction_text, tf.float32)\n",
        "  predictions = model.predict(tf.expand_dims(encoded_sample_pred_text, 0))\n",
        "  return (predictions)"
      ],
      "execution_count": 0,
      "outputs": []
    },
    {
      "cell_type": "code",
      "metadata": {
        "id": "XLPeBfoBApy7",
        "colab_type": "code",
        "colab": {}
      },
      "source": [
        "sample_pred_text = (\"I just loved the movie. I really liked it. It was a brilliant movie.\")\n",
        "prediction = sample_predict(sample_pred_text, pad=True)"
      ],
      "execution_count": 0,
      "outputs": []
    },
    {
      "cell_type": "code",
      "metadata": {
        "id": "QylNwIJEA5dS",
        "colab_type": "code",
        "colab": {}
      },
      "source": [
        "prediction"
      ],
      "execution_count": 0,
      "outputs": []
    },
    {
      "cell_type": "code",
      "metadata": {
        "id": "8SOPyRhABB7h",
        "colab_type": "code",
        "colab": {}
      },
      "source": [
        "sample_pred_text = (\"I hated this movie. There was nothing in this movie of interest. This movie is the worst. I hope this movie never existed.\")\n",
        "prediction = sample_predict(sample_pred_text, pad=False)"
      ],
      "execution_count": 0,
      "outputs": []
    },
    {
      "cell_type": "code",
      "metadata": {
        "id": "NXLHCAoZBWhS",
        "colab_type": "code",
        "colab": {}
      },
      "source": [
        "prediction"
      ],
      "execution_count": 0,
      "outputs": []
    },
    {
      "cell_type": "code",
      "metadata": {
        "id": "gP87irXrBX0t",
        "colab_type": "code",
        "colab": {}
      },
      "source": [
        "!ls saved_model/my_model/ -l "
      ],
      "execution_count": 0,
      "outputs": []
    },
    {
      "cell_type": "code",
      "metadata": {
        "id": "sGmSGsGlBqrr",
        "colab_type": "code",
        "colab": {}
      },
      "source": [
        ""
      ],
      "execution_count": 0,
      "outputs": []
    }
  ]
}